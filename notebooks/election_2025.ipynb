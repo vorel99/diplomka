{
 "cells": [
  {
   "cell_type": "markdown",
   "id": "c06a1d50",
   "metadata": {},
   "source": [
    "## Election system of Germany - 2025 Federal Election\n",
    "\n",
    "Germans elect their members of parliament with two votes. The first vote is for a direct candidate, who is required to receive a plurality vote in their electoral district. The second vote is used to elect a party list in each state as established by its respective party caucus. The Bundestag comprises, then, the seats representing each electoral district on the first vote and the seats allocated to maintain proportionality based on the second vote. Common practice is that direct candidates are also placed on the electoral lists at higher rankings as a fall-back in case they do not win their districts.\n",
    "\n",
    "### First vote\n",
    "The first vote allows the elector to vote for a direct candidate of their constituency, who applies for a direct mandate in the Bundestag (see illustration above, no. 2). A plurality voting system is used, which means that the candidate who receives more votes than any other candidate gets the mandate. If the vote results in a tie, the lot drawn by the leader of the regional election is decisive. In this case, the votes for the other candidates are invalid. The primary function of the first vote is to personalize the election. As there are 299 constituencies (regions) at the moment, the same number of mandates in the Bundestag are distributed to the elected candidates in each district. However, the first vote does not determine the power of the parties in the Bundestag. For each direct mandate in a Bundesland the party always receives one mandate fewer from the second vote.\n",
    "\n",
    "### Second vote\n",
    "For the distribution of seats in the German Bundestag, the second vote is more important than the first vote. This second vote allows the elector to vote for a party whose candidates are put together on the regional electoral list. Based on the proportion of second votes, the 598 mandates are distributed to the parties which have achieved at least 5 percent of valid second votes."
   ]
  },
  {
   "cell_type": "code",
   "execution_count": null,
   "id": "4dde3d69",
   "metadata": {},
   "outputs": [],
   "source": []
  },
  {
   "cell_type": "code",
   "execution_count": null,
   "id": "fc63bc46",
   "metadata": {},
   "outputs": [],
   "source": [
    "import zipfile\n",
    "\n",
    "import requests\n",
    "\n",
    "\n",
    "def download_zip(url, local_filename):\n",
    "    \"\"\"Download a zip file from URL\"\"\"\n",
    "    response = requests.get(url)\n",
    "    response.raise_for_status()\n",
    "\n",
    "    with open(local_filename, \"wb\") as f:\n",
    "        f.write(response.content)\n",
    "\n",
    "    return local_filename\n",
    "\n",
    "\n",
    "def extract_zip(zip_path, extract_to=\".\"):\n",
    "    \"\"\"Extract zip file to specified directory\"\"\"\n",
    "    with zipfile.ZipFile(zip_path, \"r\") as zip_ref:\n",
    "        zip_ref.extractall(extract_to)\n",
    "\n",
    "\n",
    "# Example usage\n",
    "url = \"https://www.bundeswahlleiterin.de/en/dam/jcr/e79a7bd3-0607-4e87-9752-8e601e299e00/btw25_wbz.zip\"\n",
    "local_file = \"../data/zip/election_2025.zip\"\n",
    "\n",
    "# Download\n",
    "download_zip(url, local_file)\n",
    "\n",
    "# Extract\n",
    "extract_zip(local_file, \"../data/election_2025/\")"
   ]
  },
  {
   "cell_type": "markdown",
   "id": "90052026",
   "metadata": {},
   "source": [
    "This will download folder containing two csv files and four pdf files.\n",
    "First csv file `btw25_wbz_ergebnisse.csv` contains results of the election by voting districts.\n",
    "Second csv file `btw25_wbz_leitband.csv` contains metadata about the voting districts.\n",
    "\n",
    "Contents:\n",
    "The files `btw25_wbz_ergebnisse.csv` contain data records for all approximately 90,000 electoral districts with the following information: \n",
    "• Constituency number, municipality code, municipality name, electoral district number, and district type\n",
    "• Total number of eligible voters, with and without voting card notation\n",
    "• Total number of voters and voters with voting cards\n",
    "• Total number of invalid and valid first and second votes\n",
    "• Number of first and second votes for each party. \n",
    " \n",
    "An additional file contains the following explanatory information \n",
    "(mainly on the territorial status as of December 31, 2024): \n",
    "• State names \n",
    "• Administrative district names \n",
    "• County names \n",
    "• Association municipality names \n",
    "• Municipality names for the municipality codes listed. \n",
    "\n",
    "The municipal codes used are identical to the key numbers in the official \n",
    "municipal directory. \n",
    "\n",
    "A special feature is the joint postal voting districts for several municipalities. All municipalities \n",
    "in a district that form a joint postal voting committee are assigned the same 2-digit number in the additional field EF8 \n",
    "“Postal voting affiliation.” The municipality code for the joint \n",
    "postal voting districts consists of the number “9” and this 2-digit number. The 4-digit \n",
    "association municipality code for this district corresponds to the association municipality code if all municipalities belong to the same association.\n",
    " Otherwise, it consists of the digits \n",
    "“11” and the 2-digit postal vote affiliation number. \n"
   ]
  },
  {
   "cell_type": "markdown",
   "id": "d70717b7",
   "metadata": {},
   "source": [
    "Description of features:\n",
    "- Wahlkreis: Constituency number (voting district)\n",
    "- Land: State\n",
    "- Regierungsbezirk: Administrative district\n",
    "- Kreis: County\n",
    "- Verbandsgemeinde: Association municipality\n",
    "- Gemeinde: Municipality name (city/town)\n",
    "- Kennziffer Briefwahlzugehörigkeit: Postal ballot code\n",
    "- Wahlbezirk: Electoral district number (within the municipality)\n",
    "- Bezirkstart: District type \n",
    "    - 0: Ballot box district\n",
    "    - 5: Postal voting district\n",
    "    - 6: Special district\n",
    "    - 8: District for eligible voters without further details\n",
    "- Wahlberechtigte (A): Total number of eligible voters\n",
    "- Wahlberechtigte ohne Sperrvermerk (A1): Total number of eligible voters without voting card notation (i.e., those who can vote in person)\n",
    "- Wahlberechtigte mit Sperrvermerk (A2): Total number of eligible voters with voting card notation (i.e., those who can only vote by mail)\n",
    "- Wahlberechtigte nach § 25 Abs. 2 BWO (A3): Total number of eligible voters according to § 25 Abs. 2 BWO (e.g., for certain special districts)\n",
    "- Wählende (B): Total number of voters\n",
    "- Wählende mit Wahlschein (B1): Total number of voters including those with voting cards\n",
    "- Any Erststimmen: First votes for each party\n",
    "- Any Zweitstimmen: Second votes for each party\n",
    "- Ungekürzte Wahlbezirksbezeichnung: Unabridged electoral district description\n",
    "- Bezeichnung des Wahlbezirkes gemäß Anlage 30 zur BWO: Electoral district description according to Annex 30 of the BWO\n"
   ]
  },
  {
   "cell_type": "code",
   "execution_count": null,
   "id": "69fa8b6c",
   "metadata": {},
   "outputs": [],
   "source": [
    "import pandas as pd\n",
    "\n",
    "df = pd.read_csv(\"../data/election_2025/btw25_wbz_ergebnisse.csv\", sep=\";\", skiprows=4)\n",
    "df.head(10)"
   ]
  },
  {
   "cell_type": "code",
   "execution_count": null,
   "id": "464742e0",
   "metadata": {},
   "outputs": [],
   "source": [
    "df.nunique()"
   ]
  },
  {
   "cell_type": "code",
   "execution_count": null,
   "id": "d8cea143",
   "metadata": {},
   "outputs": [],
   "source": [
    "print(df[\"Gemeindename\"].nunique())\n",
    "print(df[\"Gemeinde\"].nunique())"
   ]
  }
 ],
 "metadata": {
  "kernelspec": {
   "display_name": "venv",
   "language": "python",
   "name": "python3"
  },
  "language_info": {
   "codemirror_mode": {
    "name": "ipython",
    "version": 3
   },
   "file_extension": ".py",
   "mimetype": "text/x-python",
   "name": "python",
   "nbconvert_exporter": "python",
   "pygments_lexer": "ipython3",
   "version": "3.11.11"
  }
 },
 "nbformat": 4,
 "nbformat_minor": 5
}
