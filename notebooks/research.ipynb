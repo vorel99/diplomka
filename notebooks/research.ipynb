{
 "cells": [
  {
   "cell_type": "markdown",
   "id": "e4d3ef91",
   "metadata": {},
   "source": [
    "---\n",
    "title: Research of possible countries for geoscore\n",
    "date: now\n",
    "author: Jan Cap\n",
    "---"
   ]
  },
  {
   "cell_type": "markdown",
   "id": "61d29860",
   "metadata": {},
   "source": [
    "Before starting My diploma thesis, I need to choose a country for which I will create a geoscore. The natural choice would be Slovakia, Germany, Poland, or Austria, as those are neighboring countries to Czechia. Int the country of our choice, there shouldnt be any geoscore yet, becouse that would make the thesis obsolete. The country should have some dataset with geographical locations (as buildings or at least voting districts), some data that could be used as target (insolvency rate, unemployment rate, etc.) and some data that could be used as features (voting results, population data, crime rate, etc.)."
   ]
  },
  {
   "cell_type": "markdown",
   "id": "479e71fb",
   "metadata": {},
   "source": [
    "## Slovakia"
   ]
  },
  {
   "cell_type": "markdown",
   "id": "44dda264",
   "metadata": {},
   "source": [
    "### Geoscore Existence\n"
   ]
  },
  {
   "cell_type": "markdown",
   "id": "3d8ce227",
   "metadata": {},
   "source": [
    "\n",
    "I wasnt able to find any geoscore for Slovakia."
   ]
  },
  {
   "cell_type": "markdown",
   "id": "403b155e",
   "metadata": {},
   "source": [
    "## Geographical Locations"
   ]
  },
  {
   "cell_type": "markdown",
   "id": "9268a7c1",
   "metadata": {},
   "source": [
    "According to [this](https://e-justice.europa.eu/topics/registers-business-insolvency-land/land-registers-eu-countries/sk_cs) page, Slovakia has some kind of land register.\n",
    "On [this](https://kataster.skgeodesy.sk/eskn-portal/registre) page, there are code lists for the land register (best granularity is by city).\n"
   ]
  },
  {
   "cell_type": "markdown",
   "id": "77e44152",
   "metadata": {},
   "source": [
    "## Data for Target Variable"
   ]
  },
  {
   "cell_type": "markdown",
   "id": "0c846859",
   "metadata": {},
   "source": [
    "In slovakia they have alternative to czech ISIR called [register upadcov](https://ru.justice.sk/ru-verejnost-web/pages/home.xhtml). This system will be discontinued in 1. of october 2025 and will be replaced by new system, that is not yet online. So we will have to wait for nes system and see if it has any data available for download."
   ]
  },
  {
   "cell_type": "markdown",
   "id": "939c2c64",
   "metadata": {},
   "source": [
    "## Data for Features"
   ]
  },
  {
   "cell_type": "markdown",
   "id": "750d2437",
   "metadata": {},
   "source": [
    "Voting data are available on [this](https://slovak.statistics.sk/) page of statistics office of Slovakia. Data are granular to voting district level.\n",
    "\n",
    "- Presidential elections 2024: [data](https://volby.statistics.sk/prez/prez2024/en/subory_na_stiahnutie.html)\n",
    "- Parliamentary elections 2024: [data](https://volbysr.sk/en/subory_na_stiahnutie.html)"
   ]
  },
  {
   "cell_type": "markdown",
   "id": "29a144cf",
   "metadata": {},
   "source": []
  },
  {
   "cell_type": "code",
   "execution_count": null,
   "id": "a260add6",
   "metadata": {},
   "outputs": [],
   "source": [
    "import pandas as pd\n",
    "\n",
    "pd.read_excel(\"../data/sk/SLO2021II-III-IV.xlsx\", sheet_name=\"KAP_IV_ZÚJ_ČO_ZSJ\")"
   ]
  },
  {
   "cell_type": "code",
   "execution_count": null,
   "id": "c8ed2931",
   "metadata": {},
   "outputs": [],
   "source": []
  }
 ],
 "metadata": {
  "kernelspec": {
   "display_name": "venv",
   "language": "python",
   "name": "python3"
  },
  "language_info": {
   "codemirror_mode": {
    "name": "ipython",
    "version": 3
   },
   "file_extension": ".py",
   "mimetype": "text/x-python",
   "name": "python",
   "nbconvert_exporter": "python",
   "pygments_lexer": "ipython3",
   "version": "3.11.11"
  }
 },
 "nbformat": 4,
 "nbformat_minor": 5
}
