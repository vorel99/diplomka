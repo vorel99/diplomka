{
 "cells": [
  {
   "cell_type": "markdown",
   "id": "e4d3ef91",
   "metadata": {},
   "source": [
    "---\n",
    "title: Research of possible countries for geoscore\n",
    "date: now\n",
    "author: Jan Cap\n",
    "---"
   ]
  },
  {
   "cell_type": "markdown",
   "id": "61d29860",
   "metadata": {},
   "source": [
    "Before starting My diploma thesis, I need to choose a country for which I will create a geoscore. The natural choice would be Slovakia, Germany, Poland, or Austria, as those are neighboring countries to Czechia. Int the country of our choice, there shouldnt be any geoscore yet, becouse that would make the thesis obsolete. The country should have some dataset with geographical locations (as buildings or at least voting districts), some data that could be used as target (insolvency rate, unemployment rate, etc.) and some data that could be used as features (voting results, population data, crime rate, etc.)."
   ]
  },
  {
   "cell_type": "markdown",
   "id": "479e71fb",
   "metadata": {},
   "source": [
    "## Slovakia"
   ]
  },
  {
   "cell_type": "markdown",
   "id": "44dda264",
   "metadata": {},
   "source": [
    "### Geoscore Existence\n"
   ]
  },
  {
   "cell_type": "markdown",
   "id": "3d8ce227",
   "metadata": {},
   "source": [
    "\n",
    "I wasnt able to find any geoscore for Slovakia."
   ]
  },
  {
   "cell_type": "markdown",
   "id": "403b155e",
   "metadata": {},
   "source": [
    "### Geographical Locations"
   ]
  },
  {
   "cell_type": "markdown",
   "id": "9268a7c1",
   "metadata": {},
   "source": [
    "According to [this](https://e-justice.europa.eu/topics/registers-business-insolvency-land/land-registers-eu-countries/sk_cs) page, Slovakia has some kind of land register.\n",
    "On [this](https://kataster.skgeodesy.sk/eskn-portal/registre) page, there are code lists for the land register (best granularity is by city).\n"
   ]
  },
  {
   "cell_type": "markdown",
   "id": "77e44152",
   "metadata": {},
   "source": [
    "### Data for Target Variable"
   ]
  },
  {
   "cell_type": "markdown",
   "id": "0c846859",
   "metadata": {},
   "source": [
    "In slovakia they have alternative to czech ISIR called [register upadcov](https://replik.justice.sk/ru-verejnost-web/). System has API with description on [this](https://www.justice.gov.sk/sluzby/register-predinsolvencnych-likvidacnych-a-insolvencnych-konani/prirucky-a-manualy-k-is-replik/) page. "
   ]
  },
  {
   "cell_type": "markdown",
   "id": "939c2c64",
   "metadata": {},
   "source": [
    "### Data for Features"
   ]
  },
  {
   "cell_type": "markdown",
   "id": "750d2437",
   "metadata": {},
   "source": [
    "Voting data are available on [this](https://slovak.statistics.sk/) page of statistics office of Slovakia. Data are granular to voting district level.\n",
    "\n",
    "- Presidential elections 2024: [data](https://volby.statistics.sk/prez/prez2024/en/subory_na_stiahnutie.html)\n",
    "- Parliamentary elections 2024: [data](https://volbysr.sk/en/subory_na_stiahnutie.html)"
   ]
  },
  {
   "cell_type": "markdown",
   "id": "29a144cf",
   "metadata": {},
   "source": []
  },
  {
   "cell_type": "code",
   "execution_count": null,
   "id": "a260add6",
   "metadata": {},
   "outputs": [],
   "source": [
    "import pandas as pd\n",
    "\n",
    "pd.read_excel(\"../data/sk/SLO2021II-III-IV.xlsx\", sheet_name=\"KAP_IV_ZÚJ_ČO_ZSJ\")"
   ]
  },
  {
   "cell_type": "code",
   "execution_count": null,
   "id": "c8ed2931",
   "metadata": {},
   "outputs": [],
   "source": []
  },
  {
   "cell_type": "markdown",
   "id": "250f24ab",
   "metadata": {},
   "source": [
    "## Germany"
   ]
  },
  {
   "cell_type": "markdown",
   "id": "e004c897",
   "metadata": {},
   "source": [
    "### Geoscore Existence\n",
    "\n",
    "I found [this](https://www.schufa.de/en/newsroom/creditworthiness/geoscoring-place-residence-affect-credit-rating/) article from Schufa, where they provide geoscore for Germany. Looks like it they sell it to banks and other institutions. \n",
    "\n",
    "*To calculate the individual Regioscore, SCHUFA analyzed all homes in Germany and assigned them to one of 5.4 million so-called Regioclusters. A regiocluster combines the houses in the immediate neighborhood and must consist of at least six households and six people.To calculate a regioscore, the system checks which cluster the person in question belongs to.*\n",
    "\n",
    "*We also do not use any additional geographical data such as the unemployment rate in a municipality, average income or the number of ongoing insolvency proceedings in the municipality.*\n",
    "\n",
    "They calculate score only based on people living in the same neighborhood, not on income, unemployment rate or insolvency rate etc. Our approach to geoscore will be different."
   ]
  },
  {
   "cell_type": "markdown",
   "id": "eeb74bb1",
   "metadata": {},
   "source": [
    "### Geographical Locations"
   ]
  },
  {
   "cell_type": "markdown",
   "id": "195fac01",
   "metadata": {},
   "source": [
    "structure of germany is visualized on [this](https://learn.opengeoedu.de/en/opendata/vorlesung/open-government-data/verwaltungsdaten-in-dach-und-eu/adm_de) page. \n",
    "\n",
    "- Bund - federal level\n",
    "- Bundeslander (Länder) - federal states (16 in total)\n",
    "- Regierungsbezirke - governmental district level (only in some federal states)\n",
    "- Kreise - county level\n",
    "- Gemeinden - municipality level\n",
    "\n",
    "\n",
    "Data on Administrative district are available on [this](https://www-genesis.destatis.de/datenbank/online/statistic/11111/details) page with granularity on administrative district level."
   ]
  },
  {
   "cell_type": "markdown",
   "id": "3c1edd47",
   "metadata": {},
   "source": [
    "### Target Variable Data"
   ]
  },
  {
   "cell_type": "markdown",
   "id": "4c0767de",
   "metadata": {},
   "source": [
    "Insolvency portal: https://neu.insolvenzbekanntmachungen.de/ap/"
   ]
  },
  {
   "cell_type": "markdown",
   "id": "0dc2fe6d",
   "metadata": {},
   "source": [
    "### Data for Features"
   ]
  },
  {
   "cell_type": "markdown",
   "id": "8b0bff4f",
   "metadata": {},
   "source": [
    "Germany official data portal: https://www.govdata.de/suche/daten/bundestagswahl-2025-stadtergebnis\n",
    "\n",
    "#### Election data\n",
    "2025 German federal election\n",
    "- https://www.bundeswahlleiterin.de/en/bundestagswahlen/2025/ergebnisse/weitere-ergebnisse.html\n",
    "- granularity on voting district level\n",
    "\n",
    "2021 German federal election\n",
    "- https://www.bundeswahlleiterin.de/en/bundestagswahlen/2021/ergebnisse/weitere-ergebnisse.html\n",
    "- granularity on voting district level\n",
    "\n",
    "Euro parlament 2024\n",
    "- https://www.bundeswahlleiterin.de/en/europawahlen/2024/ergebnisse/weitere-ergebnisse.html\n",
    "- granularity on ballot box district\n",
    "\n",
    "Voting data are in good quality and granularity.\n",
    "\n",
    "#### Demographic data\n",
    "https://www.destatis.de/EN/Themes/Society-Environment/Population/Current-Population/_node.html#sprg478526\n",
    "\n",
    "All data about population, households, families, education, buildings etc. can be found here: https://ergebnisse.zensus2022.de/datenbank/online\n"
   ]
  },
  {
   "cell_type": "markdown",
   "id": "2b3d2470",
   "metadata": {},
   "source": []
  }
 ],
 "metadata": {
  "kernelspec": {
   "display_name": "venv",
   "language": "python",
   "name": "python3"
  },
  "language_info": {
   "codemirror_mode": {
    "name": "ipython",
    "version": 3
   },
   "file_extension": ".py",
   "mimetype": "text/x-python",
   "name": "python",
   "nbconvert_exporter": "python",
   "pygments_lexer": "ipython3",
   "version": "3.11.11"
  }
 },
 "nbformat": 4,
 "nbformat_minor": 5
}
